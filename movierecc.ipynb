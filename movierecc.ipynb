{
 "cells": [
  {
   "cell_type": "code",
   "execution_count": 55,
   "id": "b0637c7b-d5e5-4d3c-abd2-22e565c65e98",
   "metadata": {},
   "outputs": [],
   "source": [
    "import numpy as np\n",
    "import pandas as pd\n",
    "import difflib #to find close match of input given\n",
    "from sklearn.feature_extraction.text import TfidfVectorizer\n",
    "from sklearn.metrics.pairwise import cosine_similarity #to find similarity score of all the moviees"
   ]
  },
  {
   "cell_type": "code",
   "execution_count": 3,
   "id": "eaa943ba-143d-4611-9c7b-77eb78e0e37e",
   "metadata": {},
   "outputs": [],
   "source": [
    "df=pd.read_csv(\"movies.csv\")\n"
   ]
  },
  {
   "cell_type": "code",
   "execution_count": 4,
   "id": "01fed54c-daef-4fdf-ac52-2ddde7e9df77",
   "metadata": {},
   "outputs": [
    {
     "data": {
      "text/html": [
       "<div>\n",
       "<style scoped>\n",
       "    .dataframe tbody tr th:only-of-type {\n",
       "        vertical-align: middle;\n",
       "    }\n",
       "\n",
       "    .dataframe tbody tr th {\n",
       "        vertical-align: top;\n",
       "    }\n",
       "\n",
       "    .dataframe thead th {\n",
       "        text-align: right;\n",
       "    }\n",
       "</style>\n",
       "<table border=\"1\" class=\"dataframe\">\n",
       "  <thead>\n",
       "    <tr style=\"text-align: right;\">\n",
       "      <th></th>\n",
       "      <th>index</th>\n",
       "      <th>budget</th>\n",
       "      <th>genres</th>\n",
       "      <th>homepage</th>\n",
       "      <th>id</th>\n",
       "      <th>keywords</th>\n",
       "      <th>original_language</th>\n",
       "      <th>original_title</th>\n",
       "      <th>overview</th>\n",
       "      <th>popularity</th>\n",
       "      <th>...</th>\n",
       "      <th>runtime</th>\n",
       "      <th>spoken_languages</th>\n",
       "      <th>status</th>\n",
       "      <th>tagline</th>\n",
       "      <th>title</th>\n",
       "      <th>vote_average</th>\n",
       "      <th>vote_count</th>\n",
       "      <th>cast</th>\n",
       "      <th>crew</th>\n",
       "      <th>director</th>\n",
       "    </tr>\n",
       "  </thead>\n",
       "  <tbody>\n",
       "    <tr>\n",
       "      <th>0</th>\n",
       "      <td>0</td>\n",
       "      <td>237000000</td>\n",
       "      <td>Action Adventure Fantasy Science Fiction</td>\n",
       "      <td>http://www.avatarmovie.com/</td>\n",
       "      <td>19995</td>\n",
       "      <td>culture clash future space war space colony so...</td>\n",
       "      <td>en</td>\n",
       "      <td>Avatar</td>\n",
       "      <td>In the 22nd century, a paraplegic Marine is di...</td>\n",
       "      <td>150.437577</td>\n",
       "      <td>...</td>\n",
       "      <td>162.0</td>\n",
       "      <td>[{\"iso_639_1\": \"en\", \"name\": \"English\"}, {\"iso...</td>\n",
       "      <td>Released</td>\n",
       "      <td>Enter the World of Pandora.</td>\n",
       "      <td>Avatar</td>\n",
       "      <td>7.2</td>\n",
       "      <td>11800</td>\n",
       "      <td>Sam Worthington Zoe Saldana Sigourney Weaver S...</td>\n",
       "      <td>[{'name': 'Stephen E. Rivkin', 'gender': 0, 'd...</td>\n",
       "      <td>James Cameron</td>\n",
       "    </tr>\n",
       "    <tr>\n",
       "      <th>1</th>\n",
       "      <td>1</td>\n",
       "      <td>300000000</td>\n",
       "      <td>Adventure Fantasy Action</td>\n",
       "      <td>http://disney.go.com/disneypictures/pirates/</td>\n",
       "      <td>285</td>\n",
       "      <td>ocean drug abuse exotic island east india trad...</td>\n",
       "      <td>en</td>\n",
       "      <td>Pirates of the Caribbean: At World's End</td>\n",
       "      <td>Captain Barbossa, long believed to be dead, ha...</td>\n",
       "      <td>139.082615</td>\n",
       "      <td>...</td>\n",
       "      <td>169.0</td>\n",
       "      <td>[{\"iso_639_1\": \"en\", \"name\": \"English\"}]</td>\n",
       "      <td>Released</td>\n",
       "      <td>At the end of the world, the adventure begins.</td>\n",
       "      <td>Pirates of the Caribbean: At World's End</td>\n",
       "      <td>6.9</td>\n",
       "      <td>4500</td>\n",
       "      <td>Johnny Depp Orlando Bloom Keira Knightley Stel...</td>\n",
       "      <td>[{'name': 'Dariusz Wolski', 'gender': 2, 'depa...</td>\n",
       "      <td>Gore Verbinski</td>\n",
       "    </tr>\n",
       "    <tr>\n",
       "      <th>2</th>\n",
       "      <td>2</td>\n",
       "      <td>245000000</td>\n",
       "      <td>Action Adventure Crime</td>\n",
       "      <td>http://www.sonypictures.com/movies/spectre/</td>\n",
       "      <td>206647</td>\n",
       "      <td>spy based on novel secret agent sequel mi6</td>\n",
       "      <td>en</td>\n",
       "      <td>Spectre</td>\n",
       "      <td>A cryptic message from Bond’s past sends him o...</td>\n",
       "      <td>107.376788</td>\n",
       "      <td>...</td>\n",
       "      <td>148.0</td>\n",
       "      <td>[{\"iso_639_1\": \"fr\", \"name\": \"Fran\\u00e7ais\"},...</td>\n",
       "      <td>Released</td>\n",
       "      <td>A Plan No One Escapes</td>\n",
       "      <td>Spectre</td>\n",
       "      <td>6.3</td>\n",
       "      <td>4466</td>\n",
       "      <td>Daniel Craig Christoph Waltz L\\u00e9a Seydoux ...</td>\n",
       "      <td>[{'name': 'Thomas Newman', 'gender': 2, 'depar...</td>\n",
       "      <td>Sam Mendes</td>\n",
       "    </tr>\n",
       "    <tr>\n",
       "      <th>3</th>\n",
       "      <td>3</td>\n",
       "      <td>250000000</td>\n",
       "      <td>Action Crime Drama Thriller</td>\n",
       "      <td>http://www.thedarkknightrises.com/</td>\n",
       "      <td>49026</td>\n",
       "      <td>dc comics crime fighter terrorist secret ident...</td>\n",
       "      <td>en</td>\n",
       "      <td>The Dark Knight Rises</td>\n",
       "      <td>Following the death of District Attorney Harve...</td>\n",
       "      <td>112.312950</td>\n",
       "      <td>...</td>\n",
       "      <td>165.0</td>\n",
       "      <td>[{\"iso_639_1\": \"en\", \"name\": \"English\"}]</td>\n",
       "      <td>Released</td>\n",
       "      <td>The Legend Ends</td>\n",
       "      <td>The Dark Knight Rises</td>\n",
       "      <td>7.6</td>\n",
       "      <td>9106</td>\n",
       "      <td>Christian Bale Michael Caine Gary Oldman Anne ...</td>\n",
       "      <td>[{'name': 'Hans Zimmer', 'gender': 2, 'departm...</td>\n",
       "      <td>Christopher Nolan</td>\n",
       "    </tr>\n",
       "    <tr>\n",
       "      <th>4</th>\n",
       "      <td>4</td>\n",
       "      <td>260000000</td>\n",
       "      <td>Action Adventure Science Fiction</td>\n",
       "      <td>http://movies.disney.com/john-carter</td>\n",
       "      <td>49529</td>\n",
       "      <td>based on novel mars medallion space travel pri...</td>\n",
       "      <td>en</td>\n",
       "      <td>John Carter</td>\n",
       "      <td>John Carter is a war-weary, former military ca...</td>\n",
       "      <td>43.926995</td>\n",
       "      <td>...</td>\n",
       "      <td>132.0</td>\n",
       "      <td>[{\"iso_639_1\": \"en\", \"name\": \"English\"}]</td>\n",
       "      <td>Released</td>\n",
       "      <td>Lost in our world, found in another.</td>\n",
       "      <td>John Carter</td>\n",
       "      <td>6.1</td>\n",
       "      <td>2124</td>\n",
       "      <td>Taylor Kitsch Lynn Collins Samantha Morton Wil...</td>\n",
       "      <td>[{'name': 'Andrew Stanton', 'gender': 2, 'depa...</td>\n",
       "      <td>Andrew Stanton</td>\n",
       "    </tr>\n",
       "  </tbody>\n",
       "</table>\n",
       "<p>5 rows × 24 columns</p>\n",
       "</div>"
      ],
      "text/plain": [
       "   index     budget                                    genres  \\\n",
       "0      0  237000000  Action Adventure Fantasy Science Fiction   \n",
       "1      1  300000000                  Adventure Fantasy Action   \n",
       "2      2  245000000                    Action Adventure Crime   \n",
       "3      3  250000000               Action Crime Drama Thriller   \n",
       "4      4  260000000          Action Adventure Science Fiction   \n",
       "\n",
       "                                       homepage      id  \\\n",
       "0                   http://www.avatarmovie.com/   19995   \n",
       "1  http://disney.go.com/disneypictures/pirates/     285   \n",
       "2   http://www.sonypictures.com/movies/spectre/  206647   \n",
       "3            http://www.thedarkknightrises.com/   49026   \n",
       "4          http://movies.disney.com/john-carter   49529   \n",
       "\n",
       "                                            keywords original_language  \\\n",
       "0  culture clash future space war space colony so...                en   \n",
       "1  ocean drug abuse exotic island east india trad...                en   \n",
       "2         spy based on novel secret agent sequel mi6                en   \n",
       "3  dc comics crime fighter terrorist secret ident...                en   \n",
       "4  based on novel mars medallion space travel pri...                en   \n",
       "\n",
       "                             original_title  \\\n",
       "0                                    Avatar   \n",
       "1  Pirates of the Caribbean: At World's End   \n",
       "2                                   Spectre   \n",
       "3                     The Dark Knight Rises   \n",
       "4                               John Carter   \n",
       "\n",
       "                                            overview  popularity  ... runtime  \\\n",
       "0  In the 22nd century, a paraplegic Marine is di...  150.437577  ...   162.0   \n",
       "1  Captain Barbossa, long believed to be dead, ha...  139.082615  ...   169.0   \n",
       "2  A cryptic message from Bond’s past sends him o...  107.376788  ...   148.0   \n",
       "3  Following the death of District Attorney Harve...  112.312950  ...   165.0   \n",
       "4  John Carter is a war-weary, former military ca...   43.926995  ...   132.0   \n",
       "\n",
       "                                    spoken_languages    status  \\\n",
       "0  [{\"iso_639_1\": \"en\", \"name\": \"English\"}, {\"iso...  Released   \n",
       "1           [{\"iso_639_1\": \"en\", \"name\": \"English\"}]  Released   \n",
       "2  [{\"iso_639_1\": \"fr\", \"name\": \"Fran\\u00e7ais\"},...  Released   \n",
       "3           [{\"iso_639_1\": \"en\", \"name\": \"English\"}]  Released   \n",
       "4           [{\"iso_639_1\": \"en\", \"name\": \"English\"}]  Released   \n",
       "\n",
       "                                          tagline  \\\n",
       "0                     Enter the World of Pandora.   \n",
       "1  At the end of the world, the adventure begins.   \n",
       "2                           A Plan No One Escapes   \n",
       "3                                 The Legend Ends   \n",
       "4            Lost in our world, found in another.   \n",
       "\n",
       "                                      title vote_average vote_count  \\\n",
       "0                                    Avatar          7.2      11800   \n",
       "1  Pirates of the Caribbean: At World's End          6.9       4500   \n",
       "2                                   Spectre          6.3       4466   \n",
       "3                     The Dark Knight Rises          7.6       9106   \n",
       "4                               John Carter          6.1       2124   \n",
       "\n",
       "                                                cast  \\\n",
       "0  Sam Worthington Zoe Saldana Sigourney Weaver S...   \n",
       "1  Johnny Depp Orlando Bloom Keira Knightley Stel...   \n",
       "2  Daniel Craig Christoph Waltz L\\u00e9a Seydoux ...   \n",
       "3  Christian Bale Michael Caine Gary Oldman Anne ...   \n",
       "4  Taylor Kitsch Lynn Collins Samantha Morton Wil...   \n",
       "\n",
       "                                                crew           director  \n",
       "0  [{'name': 'Stephen E. Rivkin', 'gender': 0, 'd...      James Cameron  \n",
       "1  [{'name': 'Dariusz Wolski', 'gender': 2, 'depa...     Gore Verbinski  \n",
       "2  [{'name': 'Thomas Newman', 'gender': 2, 'depar...         Sam Mendes  \n",
       "3  [{'name': 'Hans Zimmer', 'gender': 2, 'departm...  Christopher Nolan  \n",
       "4  [{'name': 'Andrew Stanton', 'gender': 2, 'depa...     Andrew Stanton  \n",
       "\n",
       "[5 rows x 24 columns]"
      ]
     },
     "execution_count": 4,
     "metadata": {},
     "output_type": "execute_result"
    }
   ],
   "source": [
    "df.head()"
   ]
  },
  {
   "cell_type": "code",
   "execution_count": 5,
   "id": "35df53b1-b0b3-47e5-8131-11997cc9c2fc",
   "metadata": {},
   "outputs": [
    {
     "data": {
      "text/plain": [
       "(4803, 24)"
      ]
     },
     "execution_count": 5,
     "metadata": {},
     "output_type": "execute_result"
    }
   ],
   "source": [
    "df.shape"
   ]
  },
  {
   "cell_type": "code",
   "execution_count": 6,
   "id": "073b07b4-7591-4121-b7c7-e29a138fc1ce",
   "metadata": {},
   "outputs": [
    {
     "name": "stdout",
     "output_type": "stream",
     "text": [
      "['genres', 'keywords', 'tagline', 'cast', 'director']\n"
     ]
    }
   ],
   "source": [
    "#selecting relevant features for recommendation\n",
    "selected=['genres','keywords','tagline','cast','director']\n",
    "print(selected)"
   ]
  },
  {
   "cell_type": "code",
   "execution_count": 8,
   "id": "4c2db1aa-994f-443b-afe7-28fcbbb491b3",
   "metadata": {},
   "outputs": [
    {
     "data": {
      "text/plain": [
       "index                      0\n",
       "budget                     0\n",
       "genres                    28\n",
       "homepage                3091\n",
       "id                         0\n",
       "keywords                 412\n",
       "original_language          0\n",
       "original_title             0\n",
       "overview                   3\n",
       "popularity                 0\n",
       "production_companies       0\n",
       "production_countries       0\n",
       "release_date               1\n",
       "revenue                    0\n",
       "runtime                    2\n",
       "spoken_languages           0\n",
       "status                     0\n",
       "tagline                  844\n",
       "title                      0\n",
       "vote_average               0\n",
       "vote_count                 0\n",
       "cast                      43\n",
       "crew                       0\n",
       "director                  30\n",
       "dtype: int64"
      ]
     },
     "execution_count": 8,
     "metadata": {},
     "output_type": "execute_result"
    }
   ],
   "source": [
    "df.isnull().sum()"
   ]
  },
  {
   "cell_type": "code",
   "execution_count": 16,
   "id": "dcf1e1f3-3129-480c-ab4c-f43ff529fb56",
   "metadata": {},
   "outputs": [
    {
     "name": "stderr",
     "output_type": "stream",
     "text": [
      "C:\\Users\\Aakriti\\AppData\\Local\\Temp\\ipykernel_5276\\3094999256.py:1: FutureWarning: Setting an item of incompatible dtype is deprecated and will raise an error in a future version of pandas. Value '' has dtype incompatible with float64, please explicitly cast to a compatible dtype first.\n",
      "  df.fillna('',inplace=True)\n"
     ]
    }
   ],
   "source": [
    "df.fillna('',inplace=True)"
   ]
  },
  {
   "cell_type": "code",
   "execution_count": 17,
   "id": "81cdb3ad-83f9-46c5-b399-53aee812a094",
   "metadata": {},
   "outputs": [
    {
     "data": {
      "text/plain": [
       "index                   0\n",
       "budget                  0\n",
       "genres                  0\n",
       "homepage                0\n",
       "id                      0\n",
       "keywords                0\n",
       "original_language       0\n",
       "original_title          0\n",
       "overview                0\n",
       "popularity              0\n",
       "production_companies    0\n",
       "production_countries    0\n",
       "release_date            0\n",
       "revenue                 0\n",
       "runtime                 0\n",
       "spoken_languages        0\n",
       "status                  0\n",
       "tagline                 0\n",
       "title                   0\n",
       "vote_average            0\n",
       "vote_count              0\n",
       "cast                    0\n",
       "crew                    0\n",
       "director                0\n",
       "dtype: int64"
      ]
     },
     "execution_count": 17,
     "metadata": {},
     "output_type": "execute_result"
    }
   ],
   "source": [
    "df.isnull().sum()"
   ]
  },
  {
   "cell_type": "code",
   "execution_count": 22,
   "id": "2d7f0b84-10f0-4a29-ac18-eea3ba2e0fac",
   "metadata": {},
   "outputs": [
    {
     "name": "stdout",
     "output_type": "stream",
     "text": [
      "0       Action Adventure Fantasy Science Fiction cultu...\n",
      "1       Adventure Fantasy Action ocean drug abuse exot...\n",
      "2       Action Adventure Crime spy based on novel secr...\n",
      "3       Action Crime Drama Thriller dc comics crime fi...\n",
      "4       Action Adventure Science Fiction based on nove...\n",
      "                              ...                        \n",
      "4798    Action Crime Thriller united states\\u2013mexic...\n",
      "4799    Comedy Romance  A newlywed couple's honeymoon ...\n",
      "4800    Comedy Drama Romance TV Movie date love at fir...\n",
      "4801      A New Yorker in Shanghai Daniel Henney Eliza...\n",
      "4802    Documentary obsession camcorder crush dream gi...\n",
      "Length: 4803, dtype: object\n"
     ]
    }
   ],
   "source": [
    "#combining the selected features\n",
    "#selected=['genres','keywords','tagline','cast','director']\n",
    "comb=df['genres']+' '+df['keywords']+' '+df['tagline']+' '+df['cast']+' '+df['director']\n",
    "\n",
    "print(comb)"
   ]
  },
  {
   "cell_type": "code",
   "execution_count": 34,
   "id": "ea4259d1-be1e-487e-844e-0509169894d0",
   "metadata": {},
   "outputs": [],
   "source": [
    "#converting text to feature vectors \n",
    "vectorizer = TfidfVectorizer(lowercase=True)\n",
    "# or vectorizer = TfidfVectorizer(lowercase=True, min_df=1, stop_words='english')\n"
   ]
  },
  {
   "cell_type": "code",
   "execution_count": 29,
   "id": "ce7d83ab-b91b-4a99-a4b9-7da6fe057dc2",
   "metadata": {},
   "outputs": [],
   "source": [
    "featurevector=vectorizer.fit_transform(comb)"
   ]
  },
  {
   "cell_type": "code",
   "execution_count": 30,
   "id": "052b3d63-7c21-4451-9ad7-16b8c7126229",
   "metadata": {},
   "outputs": [
    {
     "name": "stdout",
     "output_type": "stream",
     "text": [
      "  (0, 198)\t0.07912514492800735\n",
      "  (0, 271)\t0.09081447720268189\n",
      "  (0, 5204)\t0.11182749749508697\n",
      "  (0, 13440)\t0.10433355352725562\n",
      "  (0, 5366)\t0.10433355352725562\n",
      "  (0, 3627)\t0.21535043940154278\n",
      "  (0, 3018)\t0.22356693392633634\n",
      "  (0, 5754)\t0.16577485025092195\n",
      "  (0, 14202)\t0.3418956777020543\n",
      "  (0, 16375)\t0.1263324200909883\n",
      "  (0, 3177)\t0.25126855964819583\n",
      "  (0, 14101)\t0.21535043940154278\n",
      "  (0, 4882)\t0.2418630583829073\n",
      "  (0, 16765)\t0.12906888267705946\n",
      "  (0, 11351)\t0.2739303704041666\n",
      "  (0, 13191)\t0.15121581535902417\n",
      "  (0, 16774)\t0.23801225015751357\n",
      "  (0, 17051)\t0.20332801528845756\n",
      "  (0, 13161)\t0.21920124762693652\n",
      "  (0, 13897)\t0.2073363856597466\n",
      "  (0, 16454)\t0.19975784468313598\n",
      "  (0, 14432)\t0.1525185407602397\n",
      "  (0, 8649)\t0.22860674889222501\n",
      "  (0, 10114)\t0.16165931117025054\n",
      "  (0, 12866)\t0.19553338573938647\n",
      "  :\t:\n",
      "  (4801, 397)\t0.18067495553272095\n",
      "  (4801, 4774)\t0.2518762905014918\n",
      "  (4801, 17027)\t0.29414364992580866\n",
      "  (4801, 13672)\t0.28404411818176767\n",
      "  (4801, 13017)\t0.29414364992580866\n",
      "  (4801, 16915)\t0.3083781404365991\n",
      "  (4801, 3461)\t0.3083781404365991\n",
      "  (4801, 13784)\t0.3083781404365991\n",
      "  (4801, 7172)\t0.3083781404365991\n",
      "  (4802, 11026)\t0.17867407682173203\n",
      "  (4802, 4463)\t0.16784466610624255\n",
      "  (4802, 2087)\t0.3099656128577656\n",
      "  (4802, 4917)\t0.16078053641367315\n",
      "  (4802, 6072)\t0.18056463596934083\n",
      "  (4802, 3387)\t0.21753405888348784\n",
      "  (4802, 4473)\t0.19504460807622875\n",
      "  (4802, 1289)\t0.1960747079005741\n",
      "  (4802, 12831)\t0.1696476532191718\n",
      "  (4802, 4318)\t0.1538239182675544\n",
      "  (4802, 6332)\t0.21753405888348784\n",
      "  (4802, 4552)\t0.24002350969074696\n",
      "  (4802, 2380)\t0.24002350969074696\n",
      "  (4802, 3604)\t0.262512960498006\n",
      "  (4802, 5297)\t0.22969114490410403\n",
      "  (4802, 6903)\t0.5700048226105303\n"
     ]
    }
   ],
   "source": [
    "print(featurevector)"
   ]
  },
  {
   "cell_type": "code",
   "execution_count": 33,
   "id": "ec0ec27a-e88e-413c-8aec-6bb7e2ebdbc0",
   "metadata": {},
   "outputs": [
    {
     "name": "stdout",
     "output_type": "stream",
     "text": [
      "[[1.         0.04720973 0.03891121 ... 0.         0.         0.        ]\n",
      " [0.04720973 1.         0.021542   ... 0.01267122 0.         0.        ]\n",
      " [0.03891121 0.021542   1.         ... 0.         0.05626942 0.        ]\n",
      " ...\n",
      " [0.         0.01267122 0.         ... 1.         0.         0.02730605]\n",
      " [0.         0.         0.05626942 ... 0.         1.         0.        ]\n",
      " [0.         0.         0.         ... 0.02730605 0.         1.        ]]\n"
     ]
    }
   ],
   "source": [
    "#getting similarity score using cosine similarity\n",
    "similarity=cosine_similarity(featurevector)\n",
    "print(similarity)"
   ]
  },
  {
   "cell_type": "code",
   "execution_count": 43,
   "id": "87e60d4e-91c7-45da-8175-66f493ec77ef",
   "metadata": {},
   "outputs": [
    {
     "name": "stdin",
     "output_type": "stream",
     "text": [
      "Enter your favourite movie name iron man\n"
     ]
    }
   ],
   "source": [
    "movie_name=input('Enter your favourite movie name')"
   ]
  },
  {
   "cell_type": "code",
   "execution_count": 38,
   "id": "27fb0526-45d7-4d49-bde4-b9f8bbedbd01",
   "metadata": {},
   "outputs": [],
   "source": [
    "#creating a list with all the movies given in data set\n",
    "list_of_all=df['title'].tolist()\n",
    "#print(list_of_all)"
   ]
  },
  {
   "cell_type": "code",
   "execution_count": 40,
   "id": "a7c660eb-e40b-468e-8b3e-6fcfc1be1a61",
   "metadata": {},
   "outputs": [
    {
     "name": "stdout",
     "output_type": "stream",
     "text": [
      "['Iron Man', 'Iron Man 3', 'Iron Man 2']\n"
     ]
    }
   ],
   "source": [
    "#finding close match for the input\n",
    "find_close_match=difflib.get_close_matches(movie_name,list_of_all)\n",
    "print(find_close_match)\n"
   ]
  },
  {
   "cell_type": "code",
   "execution_count": 42,
   "id": "f4d7f568-6799-4781-8e9b-9185ab4715c0",
   "metadata": {},
   "outputs": [
    {
     "name": "stdout",
     "output_type": "stream",
     "text": [
      "Iron Man\n"
     ]
    }
   ],
   "source": [
    "close_match=find_close_match[0]\n",
    "print(close_match)"
   ]
  },
  {
   "cell_type": "code",
   "execution_count": 45,
   "id": "daf15d51-5aba-4533-b873-dd163476e1d8",
   "metadata": {},
   "outputs": [
    {
     "name": "stdout",
     "output_type": "stream",
     "text": [
      "68\n"
     ]
    }
   ],
   "source": [
    "#find index of movie based on title\n",
    "index_of_movie=df[df.title==close_match]['index'].values[0]\n",
    "print(index_of_movie)"
   ]
  },
  {
   "cell_type": "code",
   "execution_count": 56,
   "id": "48ff5210-5020-44ef-ab71-93ebe3feb791",
   "metadata": {},
   "outputs": [],
   "source": [
    "#enumerate to get a loop \n",
    "similarity_score=list(enumerate(similarity[index_of_movie]))\n",
    "#print(similarity_score)"
   ]
  },
  {
   "cell_type": "code",
   "execution_count": 48,
   "id": "9057a7cd-704e-40dc-80ba-f7be961835a7",
   "metadata": {},
   "outputs": [
    {
     "data": {
      "text/plain": [
       "4803"
      ]
     },
     "execution_count": 48,
     "metadata": {},
     "output_type": "execute_result"
    }
   ],
   "source": [
    "len(similarity_score)"
   ]
  },
  {
   "cell_type": "code",
   "execution_count": 59,
   "id": "6baa4f24-c573-4844-9832-6c7da10c7916",
   "metadata": {},
   "outputs": [],
   "source": [
    "#sorting movoes based on similarity score x[1]=>gives value and not index\n",
    "sorted_sim_movies=sorted(similarity_score, key=lambda x:x[1], reverse=True)\n",
    "#print(sorted_sim_movies)"
   ]
  },
  {
   "cell_type": "code",
   "execution_count": 54,
   "id": "34e277fb-7713-4ecf-8ab9-72f64d418ba2",
   "metadata": {},
   "outputs": [
    {
     "name": "stdout",
     "output_type": "stream",
     "text": [
      "Movies suggested for you : \n",
      "\n",
      "1 . Iron Man\n",
      "2 . Iron Man 2\n",
      "3 . Iron Man 3\n",
      "4 . Avengers: Age of Ultron\n",
      "5 . The Avengers\n",
      "6 . Captain America: Civil War\n",
      "7 . Captain America: The Winter Soldier\n",
      "8 . Ant-Man\n",
      "9 . X-Men\n",
      "10 . Made\n"
     ]
    }
   ],
   "source": [
    "#print the names of similar movies based on index\n",
    "print('Movies suggested for you : \\n')\n",
    "i=1\n",
    "for movie in sorted_sim_movies:\n",
    "    index=movie[0]\n",
    "    title_from_index=df[df.index==index]['title'].values[0]\n",
    "    if(i<11):\n",
    "        print(i,'.',title_from_index)\n",
    "        i+=1"
   ]
  },
  {
   "cell_type": "markdown",
   "id": "38fc78f7-e1bb-4380-99d8-e3a449d404ec",
   "metadata": {},
   "source": [
    "MOVIE REC SYSTEM "
   ]
  },
  {
   "cell_type": "code",
   "execution_count": 63,
   "id": "69743f31-4dec-4be4-bb9e-19e00f0df711",
   "metadata": {},
   "outputs": [
    {
     "name": "stdin",
     "output_type": "stream",
     "text": [
      "Enter your favourite movie name Titanic\n"
     ]
    },
    {
     "name": "stdout",
     "output_type": "stream",
     "text": [
      "Movies suggested for you : \n",
      "\n",
      "1 . Titanic\n",
      "2 . The Day the Earth Stood Still\n",
      "3 . Revolutionary Road\n",
      "4 . Cheri\n",
      "5 . Flushed Away\n",
      "6 . Primary Colors\n",
      "7 . Gangs of New York\n",
      "8 . Almost Famous\n",
      "9 . Little Black Book\n",
      "10 . The Aviator\n"
     ]
    }
   ],
   "source": [
    "movie_name=input('Enter your favourite movie name')\n",
    "list_of_all=df['title'].tolist()\n",
    "find_close_match=difflib.get_close_matches(movie_name,list_of_all)\n",
    "close_match=find_close_match[0]\n",
    "index_of_movie=df[df.title==close_match]['index'].values[0]\n",
    "similarity_score=list(enumerate(similarity[index_of_movie]))\n",
    "sorted_sim_movies=sorted(similarity_score, key=lambda x:x[1], reverse=True)\n",
    "print('Movies suggested for you : \\n')\n",
    "i=1\n",
    "for movie in sorted_sim_movies:\n",
    "    index=movie[0]\n",
    "    title_from_index=df[df.index==index]['title'].values[0]\n",
    "    if(i<11):\n",
    "        print(i,'.',title_from_index)\n",
    "        i+=1"
   ]
  },
  {
   "cell_type": "code",
   "execution_count": 64,
   "id": "fafcba54-02da-417f-a395-a13e76dc2f3a",
   "metadata": {},
   "outputs": [
    {
     "name": "stdout",
     "output_type": "stream",
     "text": [
      "                           original_title\n",
      "25                                Titanic\n",
      "49                       The Great Gatsby\n",
      "50    Prince of Persia: The Sands of Time\n",
      "81                             Maleficent\n",
      "83                             The Lovers\n",
      "...                                   ...\n",
      "4781                            Dry Spell\n",
      "4784                      The Puffy Chair\n",
      "4786                     Breaking Upwards\n",
      "4799                            Newlyweds\n",
      "4800            Signed, Sealed, Delivered\n",
      "\n",
      "[890 rows x 1 columns]\n"
     ]
    }
   ],
   "source": [
    "# Filter movies that contain the genre 'Romance'\n",
    "romance_movies = df[df['genres'].str.contains('Romance')]\n",
    "\n",
    "# Display only 'original_title' column\n",
    "print(romance_movies[['original_title']])\n"
   ]
  },
  {
   "cell_type": "code",
   "execution_count": null,
   "id": "0444f8fe-40f1-41ed-b5f2-ff70382a94e6",
   "metadata": {},
   "outputs": [],
   "source": []
  }
 ],
 "metadata": {
  "kernelspec": {
   "display_name": "Python 3 (ipykernel)",
   "language": "python",
   "name": "python3"
  },
  "language_info": {
   "codemirror_mode": {
    "name": "ipython",
    "version": 3
   },
   "file_extension": ".py",
   "mimetype": "text/x-python",
   "name": "python",
   "nbconvert_exporter": "python",
   "pygments_lexer": "ipython3",
   "version": "3.9.12"
  }
 },
 "nbformat": 4,
 "nbformat_minor": 5
}
